{
 "cells": [
  {
   "cell_type": "code",
   "execution_count": 1,
   "id": "c7433c22",
   "metadata": {},
   "outputs": [],
   "source": [
    "import numpy as np\n",
    "import pandas as pd\n",
    "import warnings\n",
    "warnings.filterwarnings('ignore')"
   ]
  },
  {
   "cell_type": "code",
   "execution_count": 3,
   "id": "f73cdd1c",
   "metadata": {},
   "outputs": [],
   "source": [
    "train=pd.read_csv(\"titanictrain.csv\")\n",
    "test=pd.read_csv(\"titanictest.csv\")"
   ]
  },
  {
   "cell_type": "code",
   "execution_count": 4,
   "id": "d81ff270",
   "metadata": {},
   "outputs": [
    {
     "data": {
      "text/html": [
       "<div>\n",
       "<style scoped>\n",
       "    .dataframe tbody tr th:only-of-type {\n",
       "        vertical-align: middle;\n",
       "    }\n",
       "\n",
       "    .dataframe tbody tr th {\n",
       "        vertical-align: top;\n",
       "    }\n",
       "\n",
       "    .dataframe thead th {\n",
       "        text-align: right;\n",
       "    }\n",
       "</style>\n",
       "<table border=\"1\" class=\"dataframe\">\n",
       "  <thead>\n",
       "    <tr style=\"text-align: right;\">\n",
       "      <th></th>\n",
       "      <th>PassengerId</th>\n",
       "      <th>Survived</th>\n",
       "      <th>Pclass</th>\n",
       "      <th>Name</th>\n",
       "      <th>Sex</th>\n",
       "      <th>Age</th>\n",
       "      <th>SibSp</th>\n",
       "      <th>Parch</th>\n",
       "      <th>Ticket</th>\n",
       "      <th>Fare</th>\n",
       "      <th>Cabin</th>\n",
       "      <th>Embarked</th>\n",
       "    </tr>\n",
       "  </thead>\n",
       "  <tbody>\n",
       "    <tr>\n",
       "      <th>0</th>\n",
       "      <td>1</td>\n",
       "      <td>0</td>\n",
       "      <td>3</td>\n",
       "      <td>Braund, Mr. Owen Harris</td>\n",
       "      <td>male</td>\n",
       "      <td>22.0</td>\n",
       "      <td>1</td>\n",
       "      <td>0</td>\n",
       "      <td>A/5 21171</td>\n",
       "      <td>7.25</td>\n",
       "      <td>NaN</td>\n",
       "      <td>S</td>\n",
       "    </tr>\n",
       "  </tbody>\n",
       "</table>\n",
       "</div>"
      ],
      "text/plain": [
       "   PassengerId  Survived  Pclass                     Name   Sex   Age  SibSp  \\\n",
       "0            1         0       3  Braund, Mr. Owen Harris  male  22.0      1   \n",
       "\n",
       "   Parch     Ticket  Fare Cabin Embarked  \n",
       "0      0  A/5 21171  7.25   NaN        S  "
      ]
     },
     "execution_count": 4,
     "metadata": {},
     "output_type": "execute_result"
    }
   ],
   "source": [
    "train.head(1)"
   ]
  },
  {
   "cell_type": "code",
   "execution_count": 5,
   "id": "bd828dc2",
   "metadata": {},
   "outputs": [
    {
     "data": {
      "text/html": [
       "<div>\n",
       "<style scoped>\n",
       "    .dataframe tbody tr th:only-of-type {\n",
       "        vertical-align: middle;\n",
       "    }\n",
       "\n",
       "    .dataframe tbody tr th {\n",
       "        vertical-align: top;\n",
       "    }\n",
       "\n",
       "    .dataframe thead th {\n",
       "        text-align: right;\n",
       "    }\n",
       "</style>\n",
       "<table border=\"1\" class=\"dataframe\">\n",
       "  <thead>\n",
       "    <tr style=\"text-align: right;\">\n",
       "      <th></th>\n",
       "      <th>PassengerId</th>\n",
       "      <th>Pclass</th>\n",
       "      <th>Name</th>\n",
       "      <th>Sex</th>\n",
       "      <th>Age</th>\n",
       "      <th>SibSp</th>\n",
       "      <th>Parch</th>\n",
       "      <th>Ticket</th>\n",
       "      <th>Fare</th>\n",
       "      <th>Cabin</th>\n",
       "      <th>Embarked</th>\n",
       "    </tr>\n",
       "  </thead>\n",
       "  <tbody>\n",
       "    <tr>\n",
       "      <th>0</th>\n",
       "      <td>892</td>\n",
       "      <td>3</td>\n",
       "      <td>Kelly, Mr. James</td>\n",
       "      <td>male</td>\n",
       "      <td>34.5</td>\n",
       "      <td>0</td>\n",
       "      <td>0</td>\n",
       "      <td>330911</td>\n",
       "      <td>7.8292</td>\n",
       "      <td>NaN</td>\n",
       "      <td>Q</td>\n",
       "    </tr>\n",
       "  </tbody>\n",
       "</table>\n",
       "</div>"
      ],
      "text/plain": [
       "   PassengerId  Pclass              Name   Sex   Age  SibSp  Parch  Ticket  \\\n",
       "0          892       3  Kelly, Mr. James  male  34.5      0      0  330911   \n",
       "\n",
       "     Fare Cabin Embarked  \n",
       "0  7.8292   NaN        Q  "
      ]
     },
     "execution_count": 5,
     "metadata": {},
     "output_type": "execute_result"
    }
   ],
   "source": [
    "test.head(1)"
   ]
  },
  {
   "cell_type": "code",
   "execution_count": 6,
   "id": "e4c4baec",
   "metadata": {},
   "outputs": [],
   "source": [
    "#feature engineering\n",
    "# missing values\n",
    "#one hot encoding"
   ]
  },
  {
   "cell_type": "code",
   "execution_count": 7,
   "id": "2569f0e4",
   "metadata": {},
   "outputs": [],
   "source": [
    "#combine the data\n",
    "combined=pd.concat([train,test],ignore_index=True)"
   ]
  },
  {
   "cell_type": "code",
   "execution_count": 8,
   "id": "a534c6bb",
   "metadata": {},
   "outputs": [
    {
     "data": {
      "text/html": [
       "<div>\n",
       "<style scoped>\n",
       "    .dataframe tbody tr th:only-of-type {\n",
       "        vertical-align: middle;\n",
       "    }\n",
       "\n",
       "    .dataframe tbody tr th {\n",
       "        vertical-align: top;\n",
       "    }\n",
       "\n",
       "    .dataframe thead th {\n",
       "        text-align: right;\n",
       "    }\n",
       "</style>\n",
       "<table border=\"1\" class=\"dataframe\">\n",
       "  <thead>\n",
       "    <tr style=\"text-align: right;\">\n",
       "      <th></th>\n",
       "      <th>PassengerId</th>\n",
       "      <th>Survived</th>\n",
       "      <th>Pclass</th>\n",
       "      <th>Name</th>\n",
       "      <th>Sex</th>\n",
       "      <th>Age</th>\n",
       "      <th>SibSp</th>\n",
       "      <th>Parch</th>\n",
       "      <th>Ticket</th>\n",
       "      <th>Fare</th>\n",
       "      <th>Cabin</th>\n",
       "      <th>Embarked</th>\n",
       "    </tr>\n",
       "  </thead>\n",
       "  <tbody>\n",
       "    <tr>\n",
       "      <th>0</th>\n",
       "      <td>1</td>\n",
       "      <td>0.0</td>\n",
       "      <td>3</td>\n",
       "      <td>Braund, Mr. Owen Harris</td>\n",
       "      <td>male</td>\n",
       "      <td>22.0</td>\n",
       "      <td>1</td>\n",
       "      <td>0</td>\n",
       "      <td>A/5 21171</td>\n",
       "      <td>7.2500</td>\n",
       "      <td>NaN</td>\n",
       "      <td>S</td>\n",
       "    </tr>\n",
       "    <tr>\n",
       "      <th>1</th>\n",
       "      <td>2</td>\n",
       "      <td>1.0</td>\n",
       "      <td>1</td>\n",
       "      <td>Cumings, Mrs. John Bradley (Florence Briggs Th...</td>\n",
       "      <td>female</td>\n",
       "      <td>38.0</td>\n",
       "      <td>1</td>\n",
       "      <td>0</td>\n",
       "      <td>PC 17599</td>\n",
       "      <td>71.2833</td>\n",
       "      <td>C85</td>\n",
       "      <td>C</td>\n",
       "    </tr>\n",
       "    <tr>\n",
       "      <th>2</th>\n",
       "      <td>3</td>\n",
       "      <td>1.0</td>\n",
       "      <td>3</td>\n",
       "      <td>Heikkinen, Miss. Laina</td>\n",
       "      <td>female</td>\n",
       "      <td>26.0</td>\n",
       "      <td>0</td>\n",
       "      <td>0</td>\n",
       "      <td>STON/O2. 3101282</td>\n",
       "      <td>7.9250</td>\n",
       "      <td>NaN</td>\n",
       "      <td>S</td>\n",
       "    </tr>\n",
       "    <tr>\n",
       "      <th>3</th>\n",
       "      <td>4</td>\n",
       "      <td>1.0</td>\n",
       "      <td>1</td>\n",
       "      <td>Futrelle, Mrs. Jacques Heath (Lily May Peel)</td>\n",
       "      <td>female</td>\n",
       "      <td>35.0</td>\n",
       "      <td>1</td>\n",
       "      <td>0</td>\n",
       "      <td>113803</td>\n",
       "      <td>53.1000</td>\n",
       "      <td>C123</td>\n",
       "      <td>S</td>\n",
       "    </tr>\n",
       "    <tr>\n",
       "      <th>4</th>\n",
       "      <td>5</td>\n",
       "      <td>0.0</td>\n",
       "      <td>3</td>\n",
       "      <td>Allen, Mr. William Henry</td>\n",
       "      <td>male</td>\n",
       "      <td>35.0</td>\n",
       "      <td>0</td>\n",
       "      <td>0</td>\n",
       "      <td>373450</td>\n",
       "      <td>8.0500</td>\n",
       "      <td>NaN</td>\n",
       "      <td>S</td>\n",
       "    </tr>\n",
       "  </tbody>\n",
       "</table>\n",
       "</div>"
      ],
      "text/plain": [
       "   PassengerId  Survived  Pclass  \\\n",
       "0            1       0.0       3   \n",
       "1            2       1.0       1   \n",
       "2            3       1.0       3   \n",
       "3            4       1.0       1   \n",
       "4            5       0.0       3   \n",
       "\n",
       "                                                Name     Sex   Age  SibSp  \\\n",
       "0                            Braund, Mr. Owen Harris    male  22.0      1   \n",
       "1  Cumings, Mrs. John Bradley (Florence Briggs Th...  female  38.0      1   \n",
       "2                             Heikkinen, Miss. Laina  female  26.0      0   \n",
       "3       Futrelle, Mrs. Jacques Heath (Lily May Peel)  female  35.0      1   \n",
       "4                           Allen, Mr. William Henry    male  35.0      0   \n",
       "\n",
       "   Parch            Ticket     Fare Cabin Embarked  \n",
       "0      0         A/5 21171   7.2500   NaN        S  \n",
       "1      0          PC 17599  71.2833   C85        C  \n",
       "2      0  STON/O2. 3101282   7.9250   NaN        S  \n",
       "3      0            113803  53.1000  C123        S  \n",
       "4      0            373450   8.0500   NaN        S  "
      ]
     },
     "execution_count": 8,
     "metadata": {},
     "output_type": "execute_result"
    }
   ],
   "source": [
    "combined.head()"
   ]
  },
  {
   "cell_type": "code",
   "execution_count": 9,
   "id": "4af62483",
   "metadata": {},
   "outputs": [
    {
     "data": {
      "text/plain": [
       "Survived     418\n",
       "Age          263\n",
       "Fare           1\n",
       "Cabin       1014\n",
       "Embarked       2\n",
       "dtype: int64"
      ]
     },
     "execution_count": 9,
     "metadata": {},
     "output_type": "execute_result"
    }
   ],
   "source": [
    "#check missing values\n",
    "combined.isnull().sum()[combined.isnull().sum()!=0]"
   ]
  },
  {
   "cell_type": "code",
   "execution_count": 10,
   "id": "59552c19",
   "metadata": {},
   "outputs": [
    {
     "data": {
      "text/plain": [
       "array([nan, 'C85', 'C123', 'E46', 'G6', 'C103', 'D56', 'A6',\n",
       "       'C23 C25 C27', 'B78', 'D33', 'B30', 'C52', 'B28', 'C83', 'F33',\n",
       "       'F G73', 'E31', 'A5', 'D10 D12', 'D26', 'C110', 'B58 B60', 'E101',\n",
       "       'F E69', 'D47', 'B86', 'F2', 'C2', 'E33', 'B19', 'A7', 'C49', 'F4',\n",
       "       'A32', 'B4', 'B80', 'A31', 'D36', 'D15', 'C93', 'C78', 'D35',\n",
       "       'C87', 'B77', 'E67', 'B94', 'C125', 'C99', 'C118', 'D7', 'A19',\n",
       "       'B49', 'D', 'C22 C26', 'C106', 'C65', 'E36', 'C54',\n",
       "       'B57 B59 B63 B66', 'C7', 'E34', 'C32', 'B18', 'C124', 'C91', 'E40',\n",
       "       'T', 'C128', 'D37', 'B35', 'E50', 'C82', 'B96 B98', 'E10', 'E44',\n",
       "       'A34', 'C104', 'C111', 'C92', 'E38', 'D21', 'E12', 'E63', 'A14',\n",
       "       'B37', 'C30', 'D20', 'B79', 'E25', 'D46', 'B73', 'C95', 'B38',\n",
       "       'B39', 'B22', 'C86', 'C70', 'A16', 'C101', 'C68', 'A10', 'E68',\n",
       "       'B41', 'A20', 'D19', 'D50', 'D9', 'A23', 'B50', 'A26', 'D48',\n",
       "       'E58', 'C126', 'B71', 'B51 B53 B55', 'D49', 'B5', 'B20', 'F G63',\n",
       "       'C62 C64', 'E24', 'C90', 'C45', 'E8', 'B101', 'D45', 'C46', 'D30',\n",
       "       'E121', 'D11', 'E77', 'F38', 'B3', 'D6', 'B82 B84', 'D17', 'A36',\n",
       "       'B102', 'B69', 'E49', 'C47', 'D28', 'E17', 'A24', 'C50', 'B42',\n",
       "       'C148', 'B45', 'B36', 'A21', 'D34', 'A9', 'C31', 'B61', 'C53',\n",
       "       'D43', 'C130', 'C132', 'C55 C57', 'C116', 'F', 'A29', 'C6', 'C28',\n",
       "       'C51', 'C97', 'D22', 'B10', 'E45', 'E52', 'A11', 'B11', 'C80',\n",
       "       'C89', 'F E46', 'B26', 'F E57', 'A18', 'E60', 'E39 E41',\n",
       "       'B52 B54 B56', 'C39', 'B24', 'D40', 'D38', 'C105'], dtype=object)"
      ]
     },
     "execution_count": 10,
     "metadata": {},
     "output_type": "execute_result"
    }
   ],
   "source": [
    "combined.Cabin.unique()"
   ]
  },
  {
   "cell_type": "code",
   "execution_count": 11,
   "id": "a55f4654",
   "metadata": {},
   "outputs": [],
   "source": [
    "cabins=[ 'C85', 'C123', 'E46', 'G6', 'C103', 'D56', 'A6',\n",
    "       'C23 C25 C27', 'B78', 'D33', 'B30', 'C52', 'B28', 'C83', 'F33',\n",
    "       'F G73', 'E31', 'A5', 'D10 D12', 'D26', 'C110', 'B58 B60', 'E101',\n",
    "       'F E69', 'D47', 'B86', 'F2', 'C2', 'E33', 'B19', 'A7', 'C49', 'F4',\n",
    "       'A32', 'B4', 'B80', 'A31', 'D36', 'D15', 'C93', 'C78', 'D35',\n",
    "       'C87', 'B77', 'E67', 'B94', 'C125', 'C99', 'C118', 'D7', 'A19',\n",
    "       'B49', 'D', 'C22 C26', 'C106', 'C65', 'E36', 'C54',\n",
    "       'B57 B59 B63 B66', 'C7', 'E34', 'C32', 'B18', 'C124', 'C91', 'E40',\n",
    "       'T', 'C128', 'D37', 'B35', 'E50', 'C82', 'B96 B98', 'E10', 'E44',\n",
    "       'A34', 'C104', 'C111', 'C92', 'E38', 'D21', 'E12', 'E63', 'A14',\n",
    "       'B37', 'C30', 'D20', 'B79', 'E25', 'D46', 'B73', 'C95', 'B38',\n",
    "       'B39', 'B22', 'C86', 'C70', 'A16', 'C101', 'C68', 'A10', 'E68',\n",
    "       'B41', 'A20', 'D19', 'D50', 'D9', 'A23', 'B50', 'A26', 'D48',\n",
    "       'E58', 'C126', 'B71', 'B51 B53 B55', 'D49', 'B5', 'B20', 'F G63',\n",
    "       'C62 C64', 'E24', 'C90', 'C45', 'E8', 'B101', 'D45', 'C46', 'D30',\n",
    "       'E121', 'D11', 'E77', 'F38', 'B3', 'D6', 'B82 B84', 'D17', 'A36',\n",
    "       'B102', 'B69', 'E49', 'C47', 'D28', 'E17', 'A24', 'C50', 'B42',\n",
    "       'C148', 'B45', 'B36', 'A21', 'D34', 'A9', 'C31', 'B61', 'C53',\n",
    "       'D43', 'C130', 'C132', 'C55 C57', 'C116', 'F', 'A29', 'C6', 'C28',\n",
    "       'C51', 'C97', 'D22', 'B10', 'E45', 'E52', 'A11', 'B11', 'C80',\n",
    "       'C89', 'F E46', 'B26', 'F E57', 'A18', 'E60', 'E39 E41',\n",
    "       'B52 B54 B56', 'C39', 'B24', 'D40', 'D38', 'C105']"
   ]
  },
  {
   "cell_type": "code",
   "execution_count": 12,
   "id": "3c6c3993",
   "metadata": {},
   "outputs": [
    {
     "data": {
      "text/plain": [
       "((891, 12), (418, 11), (1309, 12))"
      ]
     },
     "execution_count": 12,
     "metadata": {},
     "output_type": "execute_result"
    }
   ],
   "source": [
    "train.shape,test.shape,combined.shape"
   ]
  },
  {
   "cell_type": "code",
   "execution_count": 13,
   "id": "44213b80",
   "metadata": {},
   "outputs": [],
   "source": [
    "def cabin_labels(x):\n",
    "    if x in cabins:\n",
    "        return('Cabin_avail')\n",
    "    else:\n",
    "        return('missing')"
   ]
  },
  {
   "cell_type": "code",
   "execution_count": 14,
   "id": "1d0aae37",
   "metadata": {},
   "outputs": [],
   "source": [
    "#lets apply this on cabin column\n",
    "combined['Cabin_cat']=combined['Cabin'].apply(cabin_labels)"
   ]
  },
  {
   "cell_type": "code",
   "execution_count": 15,
   "id": "16134197",
   "metadata": {},
   "outputs": [
    {
     "data": {
      "text/plain": [
       "<Axes: xlabel='Survived'>"
      ]
     },
     "execution_count": 15,
     "metadata": {},
     "output_type": "execute_result"
    },
    {
     "data": {
      "image/png": "[encoded data removed]",
      "text/plain": [
       "<Figure size 640x480 with 1 Axes>"
      ]
     },
     "metadata": {},
     "output_type": "display_data"
    }
   ],
   "source": [
    "pd.crosstab(combined.Survived,combined.Cabin_cat).plot(kind='bar')"
   ]
  },
  {
   "cell_type": "code",
   "execution_count": 16,
   "id": "9272eb80",
   "metadata": {},
   "outputs": [],
   "source": [
    "# NAME\n",
    "titles=[]\n",
    "for i in combined.Name:\n",
    "    titles.append(i.split(\",\")[1].split(\".\")[0])\n"
   ]
  },
  {
   "cell_type": "code",
   "execution_count": 17,
   "id": "6845e24b",
   "metadata": {},
   "outputs": [],
   "source": [
    "combined['titles']=pd.Series(titles)"
   ]
  },
  {
   "cell_type": "code",
   "execution_count": 18,
   "id": "f91c5bd9",
   "metadata": {},
   "outputs": [
    {
     "data": {
      "text/plain": [
       "array([' Mr', ' Mrs', ' Miss', ' Master', ' Don', ' Rev', ' Dr', ' Mme',\n",
       "       ' Ms', ' Major', ' Lady', ' Sir', ' Mlle', ' Col', ' Capt',\n",
       "       ' the Countess', ' Jonkheer', ' Dona'], dtype=object)"
      ]
     },
     "execution_count": 18,
     "metadata": {},
     "output_type": "execute_result"
    }
   ],
   "source": [
    "combined.titles.unique()"
   ]
  },
  {
   "cell_type": "code",
   "execution_count": 19,
   "id": "97914859",
   "metadata": {},
   "outputs": [],
   "source": [
    "titles_ignore=[ ' Don', ' Rev', ' Dr', ' Mme', ' Major', ' Lady', ' Sir', ' Mlle', ' Col', ' Capt', ' the Countess',\n",
    "               ' Jonkheer', ' Dona']\n",
    "def notitle(x):\n",
    "    if x in titles_ignore:\n",
    "        return ('others')\n",
    "    else: \n",
    "        return (x)"
   ]
  },
  {
   "cell_type": "code",
   "execution_count": 20,
   "id": "d9b0c01e",
   "metadata": {},
   "outputs": [
    {
     "data": {
      "text/plain": [
       "array([' Mr', ' Mrs', ' Miss', ' Master', 'others', ' Ms'], dtype=object)"
      ]
     },
     "execution_count": 20,
     "metadata": {},
     "output_type": "execute_result"
    }
   ],
   "source": [
    "combined.titles.apply(notitle).unique()"
   ]
  },
  {
   "cell_type": "code",
   "execution_count": 21,
   "id": "4c4246f3",
   "metadata": {},
   "outputs": [],
   "source": [
    "combined['titles']=combined.titles.apply(notitle)"
   ]
  },
  {
   "cell_type": "code",
   "execution_count": 22,
   "id": "bdcfb8c0",
   "metadata": {},
   "outputs": [],
   "source": [
    "combined.drop(['PassengerId','Name','Cabin'],axis=1,inplace=True)"
   ]
  },
  {
   "cell_type": "code",
   "execution_count": 23,
   "id": "864f0d53",
   "metadata": {},
   "outputs": [
    {
     "data": {
      "text/html": [
       "<div>\n",
       "<style scoped>\n",
       "    .dataframe tbody tr th:only-of-type {\n",
       "        vertical-align: middle;\n",
       "    }\n",
       "\n",
       "    .dataframe tbody tr th {\n",
       "        vertical-align: top;\n",
       "    }\n",
       "\n",
       "    .dataframe thead th {\n",
       "        text-align: right;\n",
       "    }\n",
       "</style>\n",
       "<table border=\"1\" class=\"dataframe\">\n",
       "  <thead>\n",
       "    <tr style=\"text-align: right;\">\n",
       "      <th></th>\n",
       "      <th>Survived</th>\n",
       "      <th>Pclass</th>\n",
       "      <th>Sex</th>\n",
       "      <th>Age</th>\n",
       "      <th>SibSp</th>\n",
       "      <th>Parch</th>\n",
       "      <th>Ticket</th>\n",
       "      <th>Fare</th>\n",
       "      <th>Embarked</th>\n",
       "      <th>Cabin_cat</th>\n",
       "      <th>titles</th>\n",
       "    </tr>\n",
       "  </thead>\n",
       "  <tbody>\n",
       "    <tr>\n",
       "      <th>0</th>\n",
       "      <td>0.0</td>\n",
       "      <td>3</td>\n",
       "      <td>male</td>\n",
       "      <td>22.0</td>\n",
       "      <td>1</td>\n",
       "      <td>0</td>\n",
       "      <td>A/5 21171</td>\n",
       "      <td>7.2500</td>\n",
       "      <td>S</td>\n",
       "      <td>missing</td>\n",
       "      <td>Mr</td>\n",
       "    </tr>\n",
       "    <tr>\n",
       "      <th>1</th>\n",
       "      <td>1.0</td>\n",
       "      <td>1</td>\n",
       "      <td>female</td>\n",
       "      <td>38.0</td>\n",
       "      <td>1</td>\n",
       "      <td>0</td>\n",
       "      <td>PC 17599</td>\n",
       "      <td>71.2833</td>\n",
       "      <td>C</td>\n",
       "      <td>Cabin_avail</td>\n",
       "      <td>Mrs</td>\n",
       "    </tr>\n",
       "  </tbody>\n",
       "</table>\n",
       "</div>"
      ],
      "text/plain": [
       "   Survived  Pclass     Sex   Age  SibSp  Parch     Ticket     Fare Embarked  \\\n",
       "0       0.0       3    male  22.0      1      0  A/5 21171   7.2500        S   \n",
       "1       1.0       1  female  38.0      1      0   PC 17599  71.2833        C   \n",
       "\n",
       "     Cabin_cat titles  \n",
       "0      missing     Mr  \n",
       "1  Cabin_avail    Mrs  "
      ]
     },
     "execution_count": 23,
     "metadata": {},
     "output_type": "execute_result"
    }
   ],
   "source": [
    "combined.head(2)"
   ]
  },
  {
   "cell_type": "code",
   "execution_count": 24,
   "id": "9d5ba726",
   "metadata": {},
   "outputs": [],
   "source": [
    "combined.drop(['Ticket'],axis=1,inplace=True)"
   ]
  },
  {
   "cell_type": "code",
   "execution_count": 25,
   "id": "05281f6c",
   "metadata": {},
   "outputs": [
    {
     "data": {
      "text/html": [
       "<div>\n",
       "<style scoped>\n",
       "    .dataframe tbody tr th:only-of-type {\n",
       "        vertical-align: middle;\n",
       "    }\n",
       "\n",
       "    .dataframe tbody tr th {\n",
       "        vertical-align: top;\n",
       "    }\n",
       "\n",
       "    .dataframe thead th {\n",
       "        text-align: right;\n",
       "    }\n",
       "</style>\n",
       "<table border=\"1\" class=\"dataframe\">\n",
       "  <thead>\n",
       "    <tr style=\"text-align: right;\">\n",
       "      <th></th>\n",
       "      <th>Survived</th>\n",
       "      <th>Pclass</th>\n",
       "      <th>Sex</th>\n",
       "      <th>Age</th>\n",
       "      <th>SibSp</th>\n",
       "      <th>Parch</th>\n",
       "      <th>Fare</th>\n",
       "      <th>Embarked</th>\n",
       "      <th>Cabin_cat</th>\n",
       "      <th>titles</th>\n",
       "    </tr>\n",
       "  </thead>\n",
       "  <tbody>\n",
       "    <tr>\n",
       "      <th>0</th>\n",
       "      <td>0.0</td>\n",
       "      <td>3</td>\n",
       "      <td>male</td>\n",
       "      <td>22.0</td>\n",
       "      <td>1</td>\n",
       "      <td>0</td>\n",
       "      <td>7.2500</td>\n",
       "      <td>S</td>\n",
       "      <td>missing</td>\n",
       "      <td>Mr</td>\n",
       "    </tr>\n",
       "    <tr>\n",
       "      <th>1</th>\n",
       "      <td>1.0</td>\n",
       "      <td>1</td>\n",
       "      <td>female</td>\n",
       "      <td>38.0</td>\n",
       "      <td>1</td>\n",
       "      <td>0</td>\n",
       "      <td>71.2833</td>\n",
       "      <td>C</td>\n",
       "      <td>Cabin_avail</td>\n",
       "      <td>Mrs</td>\n",
       "    </tr>\n",
       "  </tbody>\n",
       "</table>\n",
       "</div>"
      ],
      "text/plain": [
       "   Survived  Pclass     Sex   Age  SibSp  Parch     Fare Embarked  \\\n",
       "0       0.0       3    male  22.0      1      0   7.2500        S   \n",
       "1       1.0       1  female  38.0      1      0  71.2833        C   \n",
       "\n",
       "     Cabin_cat titles  \n",
       "0      missing     Mr  \n",
       "1  Cabin_avail    Mrs  "
      ]
     },
     "execution_count": 25,
     "metadata": {},
     "output_type": "execute_result"
    }
   ],
   "source": [
    "combined.head(2)"
   ]
  },
  {
   "cell_type": "code",
   "execution_count": 26,
   "id": "91fe5441",
   "metadata": {},
   "outputs": [],
   "source": [
    "combined['Family']=combined.SibSp+combined.Parch+1"
   ]
  },
  {
   "cell_type": "code",
   "execution_count": 27,
   "id": "8648d6dc",
   "metadata": {},
   "outputs": [
    {
     "data": {
      "text/plain": [
       "array([ 2,  1,  5,  3,  7,  6,  4,  8, 11], dtype=int64)"
      ]
     },
     "execution_count": 27,
     "metadata": {},
     "output_type": "execute_result"
    }
   ],
   "source": [
    "combined.Family.unique()"
   ]
  },
  {
   "cell_type": "code",
   "execution_count": 28,
   "id": "f6ac760a",
   "metadata": {},
   "outputs": [],
   "source": [
    "def parivar(x):\n",
    "    if x==1:\n",
    "        return ('solo')\n",
    "    elif x==2:\n",
    "        return('duo')\n",
    "    elif x<=4:\n",
    "        return('small')\n",
    "    else:\n",
    "        return('large')"
   ]
  },
  {
   "cell_type": "code",
   "execution_count": 29,
   "id": "4877e95c",
   "metadata": {},
   "outputs": [],
   "source": [
    "combined['Family_cat']=combined['Family'].apply(parivar)"
   ]
  },
  {
   "cell_type": "code",
   "execution_count": 30,
   "id": "b8e0c168",
   "metadata": {},
   "outputs": [
    {
     "data": {
      "text/plain": [
       "<Axes: xlabel='Survived'>"
      ]
     },
     "execution_count": 30,
     "metadata": {},
     "output_type": "execute_result"
    },
    {
     "data": {
      "image/png": "[encoded data removed]",
      "text/plain": [
       "<Figure size 640x480 with 1 Axes>"
      ]
     },
     "metadata": {},
     "output_type": "display_data"
    }
   ],
   "source": [
    "pd.crosstab(combined.Survived,combined.Family_cat).plot(kind='bar')"
   ]
  },
  {
   "cell_type": "code",
   "execution_count": 31,
   "id": "3090e5d2",
   "metadata": {},
   "outputs": [
    {
     "data": {
      "text/html": [
       "<div>\n",
       "<style scoped>\n",
       "    .dataframe tbody tr th:only-of-type {\n",
       "        vertical-align: middle;\n",
       "    }\n",
       "\n",
       "    .dataframe tbody tr th {\n",
       "        vertical-align: top;\n",
       "    }\n",
       "\n",
       "    .dataframe thead th {\n",
       "        text-align: right;\n",
       "    }\n",
       "</style>\n",
       "<table border=\"1\" class=\"dataframe\">\n",
       "  <thead>\n",
       "    <tr style=\"text-align: right;\">\n",
       "      <th></th>\n",
       "      <th>count</th>\n",
       "      <th>mean</th>\n",
       "      <th>std</th>\n",
       "      <th>min</th>\n",
       "      <th>25%</th>\n",
       "      <th>50%</th>\n",
       "      <th>75%</th>\n",
       "      <th>max</th>\n",
       "    </tr>\n",
       "    <tr>\n",
       "      <th>titles</th>\n",
       "      <th></th>\n",
       "      <th></th>\n",
       "      <th></th>\n",
       "      <th></th>\n",
       "      <th></th>\n",
       "      <th></th>\n",
       "      <th></th>\n",
       "      <th></th>\n",
       "    </tr>\n",
       "  </thead>\n",
       "  <tbody>\n",
       "    <tr>\n",
       "      <th>Master</th>\n",
       "      <td>53.0</td>\n",
       "      <td>5.482642</td>\n",
       "      <td>4.161554</td>\n",
       "      <td>0.33</td>\n",
       "      <td>2.0</td>\n",
       "      <td>4.0</td>\n",
       "      <td>9.0</td>\n",
       "      <td>14.5</td>\n",
       "    </tr>\n",
       "    <tr>\n",
       "      <th>Miss</th>\n",
       "      <td>210.0</td>\n",
       "      <td>21.774238</td>\n",
       "      <td>12.249077</td>\n",
       "      <td>0.17</td>\n",
       "      <td>15.0</td>\n",
       "      <td>22.0</td>\n",
       "      <td>30.0</td>\n",
       "      <td>63.0</td>\n",
       "    </tr>\n",
       "    <tr>\n",
       "      <th>Mr</th>\n",
       "      <td>581.0</td>\n",
       "      <td>32.252151</td>\n",
       "      <td>12.422089</td>\n",
       "      <td>11.00</td>\n",
       "      <td>23.0</td>\n",
       "      <td>29.0</td>\n",
       "      <td>39.0</td>\n",
       "      <td>80.0</td>\n",
       "    </tr>\n",
       "    <tr>\n",
       "      <th>Mrs</th>\n",
       "      <td>170.0</td>\n",
       "      <td>36.994118</td>\n",
       "      <td>12.901767</td>\n",
       "      <td>14.00</td>\n",
       "      <td>27.0</td>\n",
       "      <td>35.5</td>\n",
       "      <td>46.5</td>\n",
       "      <td>76.0</td>\n",
       "    </tr>\n",
       "    <tr>\n",
       "      <th>Ms</th>\n",
       "      <td>1.0</td>\n",
       "      <td>28.000000</td>\n",
       "      <td>NaN</td>\n",
       "      <td>28.00</td>\n",
       "      <td>28.0</td>\n",
       "      <td>28.0</td>\n",
       "      <td>28.0</td>\n",
       "      <td>28.0</td>\n",
       "    </tr>\n",
       "    <tr>\n",
       "      <th>others</th>\n",
       "      <td>31.0</td>\n",
       "      <td>43.129032</td>\n",
       "      <td>12.309189</td>\n",
       "      <td>23.00</td>\n",
       "      <td>32.5</td>\n",
       "      <td>45.0</td>\n",
       "      <td>52.5</td>\n",
       "      <td>70.0</td>\n",
       "    </tr>\n",
       "  </tbody>\n",
       "</table>\n",
       "</div>"
      ],
      "text/plain": [
       "         count       mean        std    min   25%   50%   75%   max\n",
       "titles                                                             \n",
       " Master   53.0   5.482642   4.161554   0.33   2.0   4.0   9.0  14.5\n",
       " Miss    210.0  21.774238  12.249077   0.17  15.0  22.0  30.0  63.0\n",
       " Mr      581.0  32.252151  12.422089  11.00  23.0  29.0  39.0  80.0\n",
       " Mrs     170.0  36.994118  12.901767  14.00  27.0  35.5  46.5  76.0\n",
       " Ms        1.0  28.000000        NaN  28.00  28.0  28.0  28.0  28.0\n",
       "others    31.0  43.129032  12.309189  23.00  32.5  45.0  52.5  70.0"
      ]
     },
     "execution_count": 31,
     "metadata": {},
     "output_type": "execute_result"
    }
   ],
   "source": [
    "#missing value\n",
    "combined.groupby('titles')['Age'].describe()"
   ]
  },
  {
   "cell_type": "code",
   "execution_count": 32,
   "id": "3f605e1f",
   "metadata": {},
   "outputs": [],
   "source": [
    "missing_titles=combined.loc[combined.Age.isnull(),'titles'].unique()"
   ]
  },
  {
   "cell_type": "code",
   "execution_count": 33,
   "id": "10905233",
   "metadata": {},
   "outputs": [],
   "source": [
    "for i in missing_titles:\n",
    "    combined.loc[combined.Age.isnull(),'Age']=combined.loc[combined.titles==i,'Age'].median()"
   ]
  },
  {
   "cell_type": "code",
   "execution_count": 34,
   "id": "46a19412",
   "metadata": {},
   "outputs": [],
   "source": [
    "combined.loc[combined.Embarked.isnull(),'Embarked']=combined.Embarked.mode()[0]"
   ]
  },
  {
   "cell_type": "code",
   "execution_count": 35,
   "id": "89a659a6",
   "metadata": {},
   "outputs": [],
   "source": [
    "combined.loc[combined.Fare.isnull(),'Fare']=combined.Fare.median()"
   ]
  },
  {
   "cell_type": "code",
   "execution_count": 36,
   "id": "4874adde",
   "metadata": {},
   "outputs": [
    {
     "data": {
      "text/plain": [
       "((891, 12), (418, 12))"
      ]
     },
     "execution_count": 36,
     "metadata": {},
     "output_type": "execute_result"
    }
   ],
   "source": [
    "#split data back in train and test\n",
    "newtrain=combined.loc[0:train.shape[0]-1,]\n",
    "newtest=combined.loc[train.shape[0]:,]\n",
    "newtrain.shape,newtest.shape"
   ]
  },
  {
   "cell_type": "code",
   "execution_count": 37,
   "id": "01e0b74e",
   "metadata": {},
   "outputs": [],
   "source": [
    "X=newtrain.drop(['Survived'],axis=1)\n",
    "Y=newtrain.Survived.astype(int)\n",
    "newtest.drop(['Survived'],axis=1,inplace=True)"
   ]
  },
  {
   "cell_type": "code",
   "execution_count": 38,
   "id": "7660e032",
   "metadata": {},
   "outputs": [],
   "source": [
    "#model building\n",
    "submission=pd.DataFrame({'PassengerId':test.PassengerId,'Survived':0})\n",
    "submission.to_csv('basemodel.csv',index=False)"
   ]
  },
  {
   "cell_type": "code",
   "execution_count": 39,
   "id": "64199314",
   "metadata": {},
   "outputs": [
    {
     "name": "stdout",
     "output_type": "stream",
     "text": [
      "C:\\Users\\ASUS\n"
     ]
    }
   ],
   "source": [
    "cd"
   ]
  },
  {
   "cell_type": "code",
   "execution_count": 40,
   "id": "7ee0e570",
   "metadata": {},
   "outputs": [],
   "source": [
    "#dummify the data\n",
    "newX=pd.get_dummies(X,drop_first=True)\n",
    "newtest=pd.get_dummies(newtest,drop_first=True)"
   ]
  },
  {
   "cell_type": "code",
   "execution_count": 41,
   "id": "3f72efcb",
   "metadata": {},
   "outputs": [],
   "source": [
    "from sklearn.linear_model import LogisticRegression"
   ]
  },
  {
   "cell_type": "code",
   "execution_count": 42,
   "id": "800414f4",
   "metadata": {},
   "outputs": [],
   "source": [
    "lg=LogisticRegression()\n",
    "pred=lg.fit(newX,Y).predict(newtest)"
   ]
  },
  {
   "cell_type": "code",
   "execution_count": 43,
   "id": "f3bee59a",
   "metadata": {},
   "outputs": [],
   "source": [
    "submission=pd.DataFrame({'PassengerId':test.PassengerId,'Survived':pred})\n",
    "submission.to_csv('logistic_titanic.csv',index=False)  #76.315"
   ]
  },
  {
   "cell_type": "code",
   "execution_count": 44,
   "id": "833e44ed",
   "metadata": {},
   "outputs": [
    {
     "name": "stdout",
     "output_type": "stream",
     "text": [
      "C:\\Users\\ASUS\n"
     ]
    }
   ],
   "source": [
    "cd"
   ]
  },
  {
   "cell_type": "markdown",
   "id": "313ba5e8",
   "metadata": {},
   "source": [
    "### Model metrics and evaluation\n",
    "* VIF\n",
    "* logit model\n",
    "* interpretations of coefficient\n",
    "* prediction using sigmoid\n",
    "* pseudo r2\n",
    "* statistical test\n",
    "* deviance\n",
    "* AIC"
   ]
  },
  {
   "cell_type": "code",
   "execution_count": 45,
   "id": "9eccc7a7",
   "metadata": {},
   "outputs": [],
   "source": [
    "import statsmodels.api as sma"
   ]
  },
  {
   "cell_type": "code",
   "execution_count": 46,
   "id": "dfce96f4",
   "metadata": {},
   "outputs": [
    {
     "name": "stdout",
     "output_type": "stream",
     "text": [
      "Warning: Maximum number of iterations has been exceeded.\n",
      "         Current function value: 0.397365\n",
      "         Iterations: 35\n"
     ]
    },
    {
     "name": "stderr",
     "output_type": "stream",
     "text": [
      "C:\\Users\\ASUS\\anaconda3\\Lib\\site-packages\\statsmodels\\base\\model.py:604: ConvergenceWarning: Maximum Likelihood optimization failed to converge. Check mle_retvals\n",
      "  warnings.warn(\"Maximum Likelihood optimization failed to \"\n"
     ]
    },
    {
     "data": {
      "text/html": [
       "<table class=\"simpletable\">\n",
       "<caption>Logit Regression Results</caption>\n",
       "<tr>\n",
       "  <th>Dep. Variable:</th>       <td>Survived</td>     <th>  No. Observations:  </th>  <td>   891</td>  \n",
       "</tr>\n",
       "<tr>\n",
       "  <th>Model:</th>                 <td>Logit</td>      <th>  Df Residuals:      </th>  <td>   873</td>  \n",
       "</tr>\n",
       "<tr>\n",
       "  <th>Method:</th>                 <td>MLE</td>       <th>  Df Model:          </th>  <td>    17</td>  \n",
       "</tr>\n",
       "<tr>\n",
       "  <th>Date:</th>            <td>Wed, 06 Dec 2023</td> <th>  Pseudo R-squ.:     </th>  <td>0.4033</td>  \n",
       "</tr>\n",
       "<tr>\n",
       "  <th>Time:</th>                <td>10:52:34</td>     <th>  Log-Likelihood:    </th> <td> -354.05</td> \n",
       "</tr>\n",
       "<tr>\n",
       "  <th>converged:</th>             <td>False</td>      <th>  LL-Null:           </th> <td> -593.33</td> \n",
       "</tr>\n",
       "<tr>\n",
       "  <th>Covariance Type:</th>     <td>nonrobust</td>    <th>  LLR p-value:       </th> <td>6.198e-91</td>\n",
       "</tr>\n",
       "</table>\n",
       "<table class=\"simpletable\">\n",
       "<tr>\n",
       "          <td></td>             <th>coef</th>     <th>std err</th>      <th>z</th>      <th>P>|z|</th>  <th>[0.025</th>    <th>0.975]</th>  \n",
       "</tr>\n",
       "<tr>\n",
       "  <th>Pclass</th>            <td>   -0.8026</td> <td>    0.187</td> <td>   -4.292</td> <td> 0.000</td> <td>   -1.169</td> <td>   -0.436</td>\n",
       "</tr>\n",
       "<tr>\n",
       "  <th>Age</th>               <td>   -0.0234</td> <td>    0.009</td> <td>   -2.505</td> <td> 0.012</td> <td>   -0.042</td> <td>   -0.005</td>\n",
       "</tr>\n",
       "<tr>\n",
       "  <th>SibSp</th>             <td>  -30.2434</td> <td> 1.27e+05</td> <td>   -0.000</td> <td> 1.000</td> <td>-2.48e+05</td> <td> 2.48e+05</td>\n",
       "</tr>\n",
       "<tr>\n",
       "  <th>Parch</th>             <td>  -30.1357</td> <td> 1.27e+05</td> <td>   -0.000</td> <td> 1.000</td> <td>-2.48e+05</td> <td> 2.48e+05</td>\n",
       "</tr>\n",
       "<tr>\n",
       "  <th>Fare</th>              <td>    0.0034</td> <td>    0.003</td> <td>    1.314</td> <td> 0.189</td> <td>   -0.002</td> <td>    0.009</td>\n",
       "</tr>\n",
       "<tr>\n",
       "  <th>Family</th>            <td>   30.1636</td> <td> 1.27e+05</td> <td>    0.000</td> <td> 1.000</td> <td>-2.48e+05</td> <td> 2.48e+05</td>\n",
       "</tr>\n",
       "<tr>\n",
       "  <th>Sex_male</th>          <td>  -25.4186</td> <td> 1.27e+05</td> <td>   -0.000</td> <td> 1.000</td> <td>-2.48e+05</td> <td> 2.48e+05</td>\n",
       "</tr>\n",
       "<tr>\n",
       "  <th>Embarked_Q</th>        <td>    0.0330</td> <td>    0.401</td> <td>    0.082</td> <td> 0.935</td> <td>   -0.754</td> <td>    0.819</td>\n",
       "</tr>\n",
       "<tr>\n",
       "  <th>Embarked_S</th>        <td>   -0.3189</td> <td>    0.254</td> <td>   -1.256</td> <td> 0.209</td> <td>   -0.816</td> <td>    0.179</td>\n",
       "</tr>\n",
       "<tr>\n",
       "  <th>Cabin_cat_missing</th> <td>   -0.6404</td> <td>    0.322</td> <td>   -1.991</td> <td> 0.047</td> <td>   -1.271</td> <td>   -0.010</td>\n",
       "</tr>\n",
       "<tr>\n",
       "  <th>titles_ Miss</th>      <td>  -26.0842</td> <td> 1.27e+05</td> <td>   -0.000</td> <td> 1.000</td> <td>-2.48e+05</td> <td> 2.48e+05</td>\n",
       "</tr>\n",
       "<tr>\n",
       "  <th>titles_ Mr</th>        <td>   -3.5874</td> <td>    0.598</td> <td>   -6.003</td> <td> 0.000</td> <td>   -4.759</td> <td>   -2.416</td>\n",
       "</tr>\n",
       "<tr>\n",
       "  <th>titles_ Mrs</th>       <td>  -25.4044</td> <td> 1.27e+05</td> <td>   -0.000</td> <td> 1.000</td> <td>-2.48e+05</td> <td> 2.48e+05</td>\n",
       "</tr>\n",
       "<tr>\n",
       "  <th>titles_ Ms</th>        <td>  -10.5080</td> <td> 1.27e+05</td> <td>-8.29e-05</td> <td> 1.000</td> <td>-2.49e+05</td> <td> 2.49e+05</td>\n",
       "</tr>\n",
       "<tr>\n",
       "  <th>titles_others</th>     <td>   -3.5582</td> <td>    0.824</td> <td>   -4.316</td> <td> 0.000</td> <td>   -5.174</td> <td>   -1.942</td>\n",
       "</tr>\n",
       "<tr>\n",
       "  <th>Family_cat_large</th>  <td>   -2.5015</td> <td>    1.291</td> <td>   -1.937</td> <td> 0.053</td> <td>   -5.032</td> <td>    0.029</td>\n",
       "</tr>\n",
       "<tr>\n",
       "  <th>Family_cat_small</th>  <td>    0.1452</td> <td>    0.500</td> <td>    0.291</td> <td> 0.771</td> <td>   -0.834</td> <td>    1.125</td>\n",
       "</tr>\n",
       "<tr>\n",
       "  <th>Family_cat_solo</th>   <td>    0.3804</td> <td>    0.391</td> <td>    0.972</td> <td> 0.331</td> <td>   -0.387</td> <td>    1.148</td>\n",
       "</tr>\n",
       "</table>"
      ],
      "text/plain": [
       "<class 'statsmodels.iolib.summary.Summary'>\n",
       "\"\"\"\n",
       "                           Logit Regression Results                           \n",
       "==============================================================================\n",
       "Dep. Variable:               Survived   No. Observations:                  891\n",
       "Model:                          Logit   Df Residuals:                      873\n",
       "Method:                           MLE   Df Model:                           17\n",
       "Date:                Wed, 06 Dec 2023   Pseudo R-squ.:                  0.4033\n",
       "Time:                        10:52:34   Log-Likelihood:                -354.05\n",
       "converged:                      False   LL-Null:                       -593.33\n",
       "Covariance Type:            nonrobust   LLR p-value:                 6.198e-91\n",
       "=====================================================================================\n",
       "                        coef    std err          z      P>|z|      [0.025      0.975]\n",
       "-------------------------------------------------------------------------------------\n",
       "Pclass               -0.8026      0.187     -4.292      0.000      -1.169      -0.436\n",
       "Age                  -0.0234      0.009     -2.505      0.012      -0.042      -0.005\n",
       "SibSp               -30.2434   1.27e+05     -0.000      1.000   -2.48e+05    2.48e+05\n",
       "Parch               -30.1357   1.27e+05     -0.000      1.000   -2.48e+05    2.48e+05\n",
       "Fare                  0.0034      0.003      1.314      0.189      -0.002       0.009\n",
       "Family               30.1636   1.27e+05      0.000      1.000   -2.48e+05    2.48e+05\n",
       "Sex_male            -25.4186   1.27e+05     -0.000      1.000   -2.48e+05    2.48e+05\n",
       "Embarked_Q            0.0330      0.401      0.082      0.935      -0.754       0.819\n",
       "Embarked_S           -0.3189      0.254     -1.256      0.209      -0.816       0.179\n",
       "Cabin_cat_missing    -0.6404      0.322     -1.991      0.047      -1.271      -0.010\n",
       "titles_ Miss        -26.0842   1.27e+05     -0.000      1.000   -2.48e+05    2.48e+05\n",
       "titles_ Mr           -3.5874      0.598     -6.003      0.000      -4.759      -2.416\n",
       "titles_ Mrs         -25.4044   1.27e+05     -0.000      1.000   -2.48e+05    2.48e+05\n",
       "titles_ Ms          -10.5080   1.27e+05  -8.29e-05      1.000   -2.49e+05    2.49e+05\n",
       "titles_others        -3.5582      0.824     -4.316      0.000      -5.174      -1.942\n",
       "Family_cat_large     -2.5015      1.291     -1.937      0.053      -5.032       0.029\n",
       "Family_cat_small      0.1452      0.500      0.291      0.771      -0.834       1.125\n",
       "Family_cat_solo       0.3804      0.391      0.972      0.331      -0.387       1.148\n",
       "=====================================================================================\n",
       "\"\"\""
      ]
     },
     "execution_count": 46,
     "metadata": {},
     "output_type": "execute_result"
    }
   ],
   "source": [
    "model=sma.Logit(Y,newX).fit()\n",
    "model.summary()"
   ]
  },
  {
   "cell_type": "markdown",
   "id": "3e989e8c",
   "metadata": {},
   "source": [
    "# basic inferences on output\n",
    "* there are lot of features which have a very high pvalue which indicates that the features are statistically insignificant\n",
    "* this also indicates that there is lot of multicolineraity btw the categorically predictors\n",
    "* warnings also suggest that the model is not a good model bcoz MLE could not help converge the sigmoid curve\"\n"
   ]
  },
  {
   "cell_type": "code",
   "execution_count": 47,
   "id": "bdac1023",
   "metadata": {},
   "outputs": [],
   "source": [
    "from statsmodels.stats.outliers_influence import variance_inflation_factor"
   ]
  },
  {
   "cell_type": "code",
   "execution_count": 48,
   "id": "8f216d3b",
   "metadata": {},
   "outputs": [],
   "source": [
    "\n",
    "vif=[]\n",
    "for i in range(newX.shape[1]):\n",
    "    vif.append(variance_inflation_factor(newX.values,i))"
   ]
  },
  {
   "cell_type": "code",
   "execution_count": 49,
   "id": "7d4f953a",
   "metadata": {},
   "outputs": [
    {
     "data": {
      "text/html": [
       "<div>\n",
       "<style scoped>\n",
       "    .dataframe tbody tr th:only-of-type {\n",
       "        vertical-align: middle;\n",
       "    }\n",
       "\n",
       "    .dataframe tbody tr th {\n",
       "        vertical-align: top;\n",
       "    }\n",
       "\n",
       "    .dataframe thead th {\n",
       "        text-align: right;\n",
       "    }\n",
       "</style>\n",
       "<table border=\"1\" class=\"dataframe\">\n",
       "  <thead>\n",
       "    <tr style=\"text-align: right;\">\n",
       "      <th></th>\n",
       "      <th>Values</th>\n",
       "    </tr>\n",
       "  </thead>\n",
       "  <tbody>\n",
       "    <tr>\n",
       "      <th>Family</th>\n",
       "      <td>1541.844876</td>\n",
       "    </tr>\n",
       "    <tr>\n",
       "      <th>SibSp</th>\n",
       "      <td>386.127423</td>\n",
       "    </tr>\n",
       "    <tr>\n",
       "      <th>Parch</th>\n",
       "      <td>208.163779</td>\n",
       "    </tr>\n",
       "    <tr>\n",
       "      <th>Sex_male</th>\n",
       "      <td>45.570269</td>\n",
       "    </tr>\n",
       "    <tr>\n",
       "      <th>titles_ Miss</th>\n",
       "      <td>38.104557</td>\n",
       "    </tr>\n",
       "    <tr>\n",
       "      <th>titles_ Mrs</th>\n",
       "      <td>29.624656</td>\n",
       "    </tr>\n",
       "    <tr>\n",
       "      <th>titles_ Mr</th>\n",
       "      <td>8.477798</td>\n",
       "    </tr>\n",
       "    <tr>\n",
       "      <th>Family_cat_large</th>\n",
       "      <td>8.368818</td>\n",
       "    </tr>\n",
       "    <tr>\n",
       "      <th>Family_cat_solo</th>\n",
       "      <td>3.209859</td>\n",
       "    </tr>\n",
       "    <tr>\n",
       "      <th>Family_cat_small</th>\n",
       "      <td>2.982278</td>\n",
       "    </tr>\n",
       "    <tr>\n",
       "      <th>Pclass</th>\n",
       "      <td>2.887608</td>\n",
       "    </tr>\n",
       "    <tr>\n",
       "      <th>titles_others</th>\n",
       "      <td>2.375225</td>\n",
       "    </tr>\n",
       "    <tr>\n",
       "      <th>Cabin_cat_missing</th>\n",
       "      <td>2.228914</td>\n",
       "    </tr>\n",
       "    <tr>\n",
       "      <th>Fare</th>\n",
       "      <td>1.716397</td>\n",
       "    </tr>\n",
       "    <tr>\n",
       "      <th>Age</th>\n",
       "      <td>1.564016</td>\n",
       "    </tr>\n",
       "    <tr>\n",
       "      <th>Embarked_Q</th>\n",
       "      <td>1.546592</td>\n",
       "    </tr>\n",
       "    <tr>\n",
       "      <th>Embarked_S</th>\n",
       "      <td>1.495120</td>\n",
       "    </tr>\n",
       "    <tr>\n",
       "      <th>titles_ Ms</th>\n",
       "      <td>1.269940</td>\n",
       "    </tr>\n",
       "  </tbody>\n",
       "</table>\n",
       "</div>"
      ],
      "text/plain": [
       "                        Values\n",
       "Family             1541.844876\n",
       "SibSp               386.127423\n",
       "Parch               208.163779\n",
       "Sex_male             45.570269\n",
       "titles_ Miss         38.104557\n",
       "titles_ Mrs          29.624656\n",
       "titles_ Mr            8.477798\n",
       "Family_cat_large      8.368818\n",
       "Family_cat_solo       3.209859\n",
       "Family_cat_small      2.982278\n",
       "Pclass                2.887608\n",
       "titles_others         2.375225\n",
       "Cabin_cat_missing     2.228914\n",
       "Fare                  1.716397\n",
       "Age                   1.564016\n",
       "Embarked_Q            1.546592\n",
       "Embarked_S            1.495120\n",
       "titles_ Ms            1.269940"
      ]
     },
     "execution_count": 49,
     "metadata": {},
     "output_type": "execute_result"
    }
   ],
   "source": [
    "pd.DataFrame(vif,columns=['Values'],index=newX.columns).sort_values(ascending=False,by='Values')"
   ]
  },
  {
   "cell_type": "code",
   "execution_count": 50,
   "id": "77cb0a8f",
   "metadata": {},
   "outputs": [],
   "source": [
    "subset=newX.drop(['SibSp','Parch','Sex_male'],axis=1)"
   ]
  },
  {
   "cell_type": "code",
   "execution_count": 51,
   "id": "fb98d287",
   "metadata": {},
   "outputs": [
    {
     "name": "stdout",
     "output_type": "stream",
     "text": [
      "Warning: Maximum number of iterations has been exceeded.\n",
      "         Current function value: 0.421190\n",
      "         Iterations: 35\n"
     ]
    },
    {
     "name": "stderr",
     "output_type": "stream",
     "text": [
      "C:\\Users\\ASUS\\anaconda3\\Lib\\site-packages\\statsmodels\\base\\model.py:604: ConvergenceWarning: Maximum Likelihood optimization failed to converge. Check mle_retvals\n",
      "  warnings.warn(\"Maximum Likelihood optimization failed to \"\n"
     ]
    },
    {
     "data": {
      "text/html": [
       "<table class=\"simpletable\">\n",
       "<caption>Logit Regression Results</caption>\n",
       "<tr>\n",
       "  <th>Dep. Variable:</th>       <td>Survived</td>     <th>  No. Observations:  </th>  <td>   891</td>  \n",
       "</tr>\n",
       "<tr>\n",
       "  <th>Model:</th>                 <td>Logit</td>      <th>  Df Residuals:      </th>  <td>   876</td>  \n",
       "</tr>\n",
       "<tr>\n",
       "  <th>Method:</th>                 <td>MLE</td>       <th>  Df Model:          </th>  <td>    14</td>  \n",
       "</tr>\n",
       "<tr>\n",
       "  <th>Date:</th>            <td>Wed, 06 Dec 2023</td> <th>  Pseudo R-squ.:     </th>  <td>0.3675</td>  \n",
       "</tr>\n",
       "<tr>\n",
       "  <th>Time:</th>                <td>10:52:43</td>     <th>  Log-Likelihood:    </th> <td> -375.28</td> \n",
       "</tr>\n",
       "<tr>\n",
       "  <th>converged:</th>             <td>False</td>      <th>  LL-Null:           </th> <td> -593.33</td> \n",
       "</tr>\n",
       "<tr>\n",
       "  <th>Covariance Type:</th>     <td>nonrobust</td>    <th>  LLR p-value:       </th> <td>3.084e-84</td>\n",
       "</tr>\n",
       "</table>\n",
       "<table class=\"simpletable\">\n",
       "<tr>\n",
       "          <td></td>             <th>coef</th>     <th>std err</th>      <th>z</th>      <th>P>|z|</th>  <th>[0.025</th>    <th>0.975]</th>  \n",
       "</tr>\n",
       "<tr>\n",
       "  <th>Pclass</th>            <td>   -0.2969</td> <td>    0.168</td> <td>   -1.773</td> <td> 0.076</td> <td>   -0.625</td> <td>    0.031</td>\n",
       "</tr>\n",
       "<tr>\n",
       "  <th>Age</th>               <td>   -0.0131</td> <td>    0.009</td> <td>   -1.504</td> <td> 0.133</td> <td>   -0.030</td> <td>    0.004</td>\n",
       "</tr>\n",
       "<tr>\n",
       "  <th>Fare</th>              <td>    0.0097</td> <td>    0.003</td> <td>    3.240</td> <td> 0.001</td> <td>    0.004</td> <td>    0.016</td>\n",
       "</tr>\n",
       "<tr>\n",
       "  <th>Family</th>            <td>    0.5728</td> <td>    0.170</td> <td>    3.372</td> <td> 0.001</td> <td>    0.240</td> <td>    0.906</td>\n",
       "</tr>\n",
       "<tr>\n",
       "  <th>Embarked_Q</th>        <td>    0.1156</td> <td>    0.394</td> <td>    0.293</td> <td> 0.769</td> <td>   -0.657</td> <td>    0.888</td>\n",
       "</tr>\n",
       "<tr>\n",
       "  <th>Embarked_S</th>        <td>   -0.0706</td> <td>    0.241</td> <td>   -0.293</td> <td> 0.769</td> <td>   -0.542</td> <td>    0.401</td>\n",
       "</tr>\n",
       "<tr>\n",
       "  <th>Cabin_cat_missing</th> <td>   -0.7748</td> <td>    0.314</td> <td>   -2.468</td> <td> 0.014</td> <td>   -1.390</td> <td>   -0.159</td>\n",
       "</tr>\n",
       "<tr>\n",
       "  <th>titles_ Miss</th>      <td>    0.8299</td> <td>    0.449</td> <td>    1.847</td> <td> 0.065</td> <td>   -0.051</td> <td>    1.711</td>\n",
       "</tr>\n",
       "<tr>\n",
       "  <th>titles_ Mr</th>        <td>   -1.9628</td> <td>    0.468</td> <td>   -4.195</td> <td> 0.000</td> <td>   -2.880</td> <td>   -1.046</td>\n",
       "</tr>\n",
       "<tr>\n",
       "  <th>titles_ Mrs</th>       <td>    1.5941</td> <td>    0.507</td> <td>    3.145</td> <td> 0.002</td> <td>    0.601</td> <td>    2.587</td>\n",
       "</tr>\n",
       "<tr>\n",
       "  <th>titles_ Ms</th>        <td>   21.3221</td> <td> 4.64e+04</td> <td>    0.000</td> <td> 1.000</td> <td>-9.09e+04</td> <td> 9.09e+04</td>\n",
       "</tr>\n",
       "<tr>\n",
       "  <th>titles_others</th>     <td>   -1.0974</td> <td>    0.632</td> <td>   -1.736</td> <td> 0.082</td> <td>   -2.336</td> <td>    0.141</td>\n",
       "</tr>\n",
       "<tr>\n",
       "  <th>Family_cat_large</th>  <td>   -5.0538</td> <td>    1.047</td> <td>   -4.825</td> <td> 0.000</td> <td>   -7.107</td> <td>   -3.001</td>\n",
       "</tr>\n",
       "<tr>\n",
       "  <th>Family_cat_small</th>  <td>   -0.0480</td> <td>    0.396</td> <td>   -0.121</td> <td> 0.903</td> <td>   -0.823</td> <td>    0.727</td>\n",
       "</tr>\n",
       "<tr>\n",
       "  <th>Family_cat_solo</th>   <td>    1.2741</td> <td>    0.321</td> <td>    3.971</td> <td> 0.000</td> <td>    0.645</td> <td>    1.903</td>\n",
       "</tr>\n",
       "</table>"
      ],
      "text/plain": [
       "<class 'statsmodels.iolib.summary.Summary'>\n",
       "\"\"\"\n",
       "                           Logit Regression Results                           \n",
       "==============================================================================\n",
       "Dep. Variable:               Survived   No. Observations:                  891\n",
       "Model:                          Logit   Df Residuals:                      876\n",
       "Method:                           MLE   Df Model:                           14\n",
       "Date:                Wed, 06 Dec 2023   Pseudo R-squ.:                  0.3675\n",
       "Time:                        10:52:43   Log-Likelihood:                -375.28\n",
       "converged:                      False   LL-Null:                       -593.33\n",
       "Covariance Type:            nonrobust   LLR p-value:                 3.084e-84\n",
       "=====================================================================================\n",
       "                        coef    std err          z      P>|z|      [0.025      0.975]\n",
       "-------------------------------------------------------------------------------------\n",
       "Pclass               -0.2969      0.168     -1.773      0.076      -0.625       0.031\n",
       "Age                  -0.0131      0.009     -1.504      0.133      -0.030       0.004\n",
       "Fare                  0.0097      0.003      3.240      0.001       0.004       0.016\n",
       "Family                0.5728      0.170      3.372      0.001       0.240       0.906\n",
       "Embarked_Q            0.1156      0.394      0.293      0.769      -0.657       0.888\n",
       "Embarked_S           -0.0706      0.241     -0.293      0.769      -0.542       0.401\n",
       "Cabin_cat_missing    -0.7748      0.314     -2.468      0.014      -1.390      -0.159\n",
       "titles_ Miss          0.8299      0.449      1.847      0.065      -0.051       1.711\n",
       "titles_ Mr           -1.9628      0.468     -4.195      0.000      -2.880      -1.046\n",
       "titles_ Mrs           1.5941      0.507      3.145      0.002       0.601       2.587\n",
       "titles_ Ms           21.3221   4.64e+04      0.000      1.000   -9.09e+04    9.09e+04\n",
       "titles_others        -1.0974      0.632     -1.736      0.082      -2.336       0.141\n",
       "Family_cat_large     -5.0538      1.047     -4.825      0.000      -7.107      -3.001\n",
       "Family_cat_small     -0.0480      0.396     -0.121      0.903      -0.823       0.727\n",
       "Family_cat_solo       1.2741      0.321      3.971      0.000       0.645       1.903\n",
       "=====================================================================================\n",
       "\"\"\""
      ]
     },
     "execution_count": 51,
     "metadata": {},
     "output_type": "execute_result"
    }
   ],
   "source": [
    "#rebuild the model\n",
    "model=sma.Logit(Y,subset).fit()\n",
    "model.summary()"
   ]
  },
  {
   "cell_type": "code",
   "execution_count": 52,
   "id": "17a50975",
   "metadata": {},
   "outputs": [],
   "source": [
    "#lets remove the high pvalue\n",
    "feats=[]\n",
    "for i in model.pvalues:\n",
    "    if i<0.05:\n",
    "        feats.append(model.pvalues.index)"
   ]
  },
  {
   "cell_type": "code",
   "execution_count": 53,
   "id": "b1c7e72b",
   "metadata": {},
   "outputs": [],
   "source": [
    "localdf=pd.DataFrame(model.pvalues,columns=['Pvalue']).reset_index()"
   ]
  },
  {
   "cell_type": "code",
   "execution_count": 54,
   "id": "980141de",
   "metadata": {},
   "outputs": [],
   "source": [
    "feats=list(localdf.loc[localdf['Pvalue']<0.05,'index'])"
   ]
  },
  {
   "cell_type": "code",
   "execution_count": 55,
   "id": "b6a930e3",
   "metadata": {},
   "outputs": [
    {
     "name": "stdout",
     "output_type": "stream",
     "text": [
      "Optimization terminated successfully.\n",
      "         Current function value: 0.434542\n",
      "         Iterations 6\n"
     ]
    },
    {
     "data": {
      "text/html": [
       "<table class=\"simpletable\">\n",
       "<caption>Logit Regression Results</caption>\n",
       "<tr>\n",
       "  <th>Dep. Variable:</th>       <td>Survived</td>     <th>  No. Observations:  </th>  <td>   891</td>  \n",
       "</tr>\n",
       "<tr>\n",
       "  <th>Model:</th>                 <td>Logit</td>      <th>  Df Residuals:      </th>  <td>   884</td>  \n",
       "</tr>\n",
       "<tr>\n",
       "  <th>Method:</th>                 <td>MLE</td>       <th>  Df Model:          </th>  <td>     6</td>  \n",
       "</tr>\n",
       "<tr>\n",
       "  <th>Date:</th>            <td>Wed, 06 Dec 2023</td> <th>  Pseudo R-squ.:     </th>  <td>0.3474</td>  \n",
       "</tr>\n",
       "<tr>\n",
       "  <th>Time:</th>                <td>10:52:47</td>     <th>  Log-Likelihood:    </th> <td> -387.18</td> \n",
       "</tr>\n",
       "<tr>\n",
       "  <th>converged:</th>             <td>True</td>       <th>  LL-Null:           </th> <td> -593.33</td> \n",
       "</tr>\n",
       "<tr>\n",
       "  <th>Covariance Type:</th>     <td>nonrobust</td>    <th>  LLR p-value:       </th> <td>6.329e-86</td>\n",
       "</tr>\n",
       "</table>\n",
       "<table class=\"simpletable\">\n",
       "<tr>\n",
       "          <td></td>             <th>coef</th>     <th>std err</th>      <th>z</th>      <th>P>|z|</th>  <th>[0.025</th>    <th>0.975]</th>  \n",
       "</tr>\n",
       "<tr>\n",
       "  <th>Fare</th>              <td>    0.0109</td> <td>    0.003</td> <td>    4.200</td> <td> 0.000</td> <td>    0.006</td> <td>    0.016</td>\n",
       "</tr>\n",
       "<tr>\n",
       "  <th>Family</th>            <td>    0.4258</td> <td>    0.098</td> <td>    4.363</td> <td> 0.000</td> <td>    0.235</td> <td>    0.617</td>\n",
       "</tr>\n",
       "<tr>\n",
       "  <th>Cabin_cat_missing</th> <td>   -0.9245</td> <td>    0.232</td> <td>   -3.977</td> <td> 0.000</td> <td>   -1.380</td> <td>   -0.469</td>\n",
       "</tr>\n",
       "<tr>\n",
       "  <th>titles_ Mr</th>        <td>   -2.5722</td> <td>    0.203</td> <td>  -12.698</td> <td> 0.000</td> <td>   -2.969</td> <td>   -2.175</td>\n",
       "</tr>\n",
       "<tr>\n",
       "  <th>titles_ Mrs</th>       <td>    0.8667</td> <td>    0.293</td> <td>    2.958</td> <td> 0.003</td> <td>    0.292</td> <td>    1.441</td>\n",
       "</tr>\n",
       "<tr>\n",
       "  <th>Family_cat_large</th>  <td>   -4.4873</td> <td>    0.639</td> <td>   -7.018</td> <td> 0.000</td> <td>   -5.740</td> <td>   -3.234</td>\n",
       "</tr>\n",
       "<tr>\n",
       "  <th>Family_cat_solo</th>   <td>    0.9603</td> <td>    0.219</td> <td>    4.387</td> <td> 0.000</td> <td>    0.531</td> <td>    1.389</td>\n",
       "</tr>\n",
       "</table>"
      ],
      "text/plain": [
       "<class 'statsmodels.iolib.summary.Summary'>\n",
       "\"\"\"\n",
       "                           Logit Regression Results                           \n",
       "==============================================================================\n",
       "Dep. Variable:               Survived   No. Observations:                  891\n",
       "Model:                          Logit   Df Residuals:                      884\n",
       "Method:                           MLE   Df Model:                            6\n",
       "Date:                Wed, 06 Dec 2023   Pseudo R-squ.:                  0.3474\n",
       "Time:                        10:52:47   Log-Likelihood:                -387.18\n",
       "converged:                       True   LL-Null:                       -593.33\n",
       "Covariance Type:            nonrobust   LLR p-value:                 6.329e-86\n",
       "=====================================================================================\n",
       "                        coef    std err          z      P>|z|      [0.025      0.975]\n",
       "-------------------------------------------------------------------------------------\n",
       "Fare                  0.0109      0.003      4.200      0.000       0.006       0.016\n",
       "Family                0.4258      0.098      4.363      0.000       0.235       0.617\n",
       "Cabin_cat_missing    -0.9245      0.232     -3.977      0.000      -1.380      -0.469\n",
       "titles_ Mr           -2.5722      0.203    -12.698      0.000      -2.969      -2.175\n",
       "titles_ Mrs           0.8667      0.293      2.958      0.003       0.292       1.441\n",
       "Family_cat_large     -4.4873      0.639     -7.018      0.000      -5.740      -3.234\n",
       "Family_cat_solo       0.9603      0.219      4.387      0.000       0.531       1.389\n",
       "=====================================================================================\n",
       "\"\"\""
      ]
     },
     "execution_count": 55,
     "metadata": {},
     "output_type": "execute_result"
    }
   ],
   "source": [
    "#model of important features\n",
    "newfeats=subset.loc[:,feats]\n",
    "model=sma.Logit(Y,newfeats).fit()\n",
    "model.summary()"
   ]
  },
  {
   "cell_type": "markdown",
   "id": "80ed717a",
   "metadata": {},
   "source": [
    "### Predict the output using sigmoid"
   ]
  },
  {
   "cell_type": "code",
   "execution_count": 56,
   "id": "8b6adaf8",
   "metadata": {},
   "outputs": [
    {
     "data": {
      "text/plain": [
       "Fare                 0.010875\n",
       "Family               0.425778\n",
       "Cabin_cat_missing   -0.924455\n",
       "titles_ Mr          -2.572236\n",
       "titles_ Mrs          0.866743\n",
       "Family_cat_large    -4.487282\n",
       "Family_cat_solo      0.960324\n",
       "dtype: float64"
      ]
     },
     "execution_count": 56,
     "metadata": {},
     "output_type": "execute_result"
    }
   ],
   "source": [
    "model.params"
   ]
  },
  {
   "cell_type": "code",
   "execution_count": 57,
   "id": "7565ede7",
   "metadata": {},
   "outputs": [
    {
     "data": {
      "text/html": [
       "<div>\n",
       "<style scoped>\n",
       "    .dataframe tbody tr th:only-of-type {\n",
       "        vertical-align: middle;\n",
       "    }\n",
       "\n",
       "    .dataframe tbody tr th {\n",
       "        vertical-align: top;\n",
       "    }\n",
       "\n",
       "    .dataframe thead th {\n",
       "        text-align: right;\n",
       "    }\n",
       "</style>\n",
       "<table border=\"1\" class=\"dataframe\">\n",
       "  <thead>\n",
       "    <tr style=\"text-align: right;\">\n",
       "      <th></th>\n",
       "      <th>Pclass</th>\n",
       "      <th>Age</th>\n",
       "      <th>SibSp</th>\n",
       "      <th>Parch</th>\n",
       "      <th>Fare</th>\n",
       "      <th>Family</th>\n",
       "      <th>Sex_male</th>\n",
       "      <th>Embarked_Q</th>\n",
       "      <th>Embarked_S</th>\n",
       "      <th>Cabin_cat_missing</th>\n",
       "      <th>titles_ Miss</th>\n",
       "      <th>titles_ Mr</th>\n",
       "      <th>titles_ Mrs</th>\n",
       "      <th>titles_ Ms</th>\n",
       "      <th>titles_others</th>\n",
       "      <th>Family_cat_large</th>\n",
       "      <th>Family_cat_small</th>\n",
       "      <th>Family_cat_solo</th>\n",
       "    </tr>\n",
       "  </thead>\n",
       "  <tbody>\n",
       "    <tr>\n",
       "      <th>891</th>\n",
       "      <td>3</td>\n",
       "      <td>34.5</td>\n",
       "      <td>0</td>\n",
       "      <td>0</td>\n",
       "      <td>7.8292</td>\n",
       "      <td>1</td>\n",
       "      <td>1</td>\n",
       "      <td>1</td>\n",
       "      <td>0</td>\n",
       "      <td>1</td>\n",
       "      <td>0</td>\n",
       "      <td>1</td>\n",
       "      <td>0</td>\n",
       "      <td>0</td>\n",
       "      <td>0</td>\n",
       "      <td>0</td>\n",
       "      <td>0</td>\n",
       "      <td>1</td>\n",
       "    </tr>\n",
       "  </tbody>\n",
       "</table>\n",
       "</div>"
      ],
      "text/plain": [
       "     Pclass   Age  SibSp  Parch    Fare  Family  Sex_male  Embarked_Q  \\\n",
       "891       3  34.5      0      0  7.8292       1         1           1   \n",
       "\n",
       "     Embarked_S  Cabin_cat_missing  titles_ Miss  titles_ Mr  titles_ Mrs  \\\n",
       "891           0                  1             0           1            0   \n",
       "\n",
       "     titles_ Ms  titles_others  Family_cat_large  Family_cat_small  \\\n",
       "891           0              0                 0                 0   \n",
       "\n",
       "     Family_cat_solo  \n",
       "891                1  "
      ]
     },
     "execution_count": 57,
     "metadata": {},
     "output_type": "execute_result"
    }
   ],
   "source": [
    "newtest.head(1)"
   ]
  },
  {
   "cell_type": "code",
   "execution_count": 58,
   "id": "52f1ec21",
   "metadata": {},
   "outputs": [
    {
     "data": {
      "text/html": [
       "<div>\n",
       "<style scoped>\n",
       "    .dataframe tbody tr th:only-of-type {\n",
       "        vertical-align: middle;\n",
       "    }\n",
       "\n",
       "    .dataframe tbody tr th {\n",
       "        vertical-align: top;\n",
       "    }\n",
       "\n",
       "    .dataframe thead th {\n",
       "        text-align: right;\n",
       "    }\n",
       "</style>\n",
       "<table border=\"1\" class=\"dataframe\">\n",
       "  <thead>\n",
       "    <tr style=\"text-align: right;\">\n",
       "      <th></th>\n",
       "      <th>Fare</th>\n",
       "      <th>Family</th>\n",
       "      <th>Cabin_cat_missing</th>\n",
       "      <th>titles_ Mr</th>\n",
       "      <th>titles_ Mrs</th>\n",
       "      <th>Family_cat_large</th>\n",
       "      <th>Family_cat_solo</th>\n",
       "    </tr>\n",
       "  </thead>\n",
       "  <tbody>\n",
       "    <tr>\n",
       "      <th>891</th>\n",
       "      <td>7.8292</td>\n",
       "      <td>1</td>\n",
       "      <td>1</td>\n",
       "      <td>1</td>\n",
       "      <td>0</td>\n",
       "      <td>0</td>\n",
       "      <td>1</td>\n",
       "    </tr>\n",
       "  </tbody>\n",
       "</table>\n",
       "</div>"
      ],
      "text/plain": [
       "       Fare  Family  Cabin_cat_missing  titles_ Mr  titles_ Mrs  \\\n",
       "891  7.8292       1                  1           1            0   \n",
       "\n",
       "     Family_cat_large  Family_cat_solo  \n",
       "891                 0                1  "
      ]
     },
     "execution_count": 58,
     "metadata": {},
     "output_type": "execute_result"
    }
   ],
   "source": [
    "newtest.loc[:,feats].head(1)"
   ]
  },
  {
   "cell_type": "markdown",
   "id": "c243b991",
   "metadata": {},
   "source": [
    "# Equation for prediction\n",
    "* log(odds)=beta1*fare+beta2*family+beta3*cabin_cat_missing+....."
   ]
  },
  {
   "cell_type": "code",
   "execution_count": 59,
   "id": "659d83df",
   "metadata": {},
   "outputs": [],
   "source": [
    "logit=model.params[0]*newtest['Fare']+model.params[1]*newtest['Family']+model.params[2]*\\\n",
    "newtest['Cabin_cat_missing']+model.params[3]*newtest['titles_ Mr']+model.params[4]*newtest['titles_ Mrs']\\\n",
    "+model.params[5]*newtest['Family_cat_large']+model.params[6]*newtest['Family_cat_solo']"
   ]
  },
  {
   "cell_type": "code",
   "execution_count": 60,
   "id": "26eaf2a4",
   "metadata": {},
   "outputs": [
    {
     "name": "stdout",
     "output_type": "stream",
     "text": [
      "prob using sigmoid:             0\n",
      "891  0.116557\n",
      "direct function: 891    0.116557\n",
      "dtype: float64\n"
     ]
    }
   ],
   "source": [
    "prob=1/(1+np.exp(-logit))\n",
    "print('prob using sigmoid:',pd.DataFrame(prob).head(1))\n",
    "direct=model.predict(newtest.loc[:,feats].head(1))\n",
    "print('direct function:',direct)"
   ]
  },
  {
   "cell_type": "markdown",
   "id": "aedbab5f",
   "metadata": {},
   "source": [
    "### Interpretations of  coefficient"
   ]
  },
  {
   "cell_type": "code",
   "execution_count": 61,
   "id": "74d50f24",
   "metadata": {},
   "outputs": [
    {
     "data": {
      "text/html": [
       "<table class=\"simpletable\">\n",
       "<caption>Logit Regression Results</caption>\n",
       "<tr>\n",
       "  <th>Dep. Variable:</th>       <td>Survived</td>     <th>  No. Observations:  </th>  <td>   891</td>  \n",
       "</tr>\n",
       "<tr>\n",
       "  <th>Model:</th>                 <td>Logit</td>      <th>  Df Residuals:      </th>  <td>   884</td>  \n",
       "</tr>\n",
       "<tr>\n",
       "  <th>Method:</th>                 <td>MLE</td>       <th>  Df Model:          </th>  <td>     6</td>  \n",
       "</tr>\n",
       "<tr>\n",
       "  <th>Date:</th>            <td>Wed, 06 Dec 2023</td> <th>  Pseudo R-squ.:     </th>  <td>0.3474</td>  \n",
       "</tr>\n",
       "<tr>\n",
       "  <th>Time:</th>                <td>10:52:56</td>     <th>  Log-Likelihood:    </th> <td> -387.18</td> \n",
       "</tr>\n",
       "<tr>\n",
       "  <th>converged:</th>             <td>True</td>       <th>  LL-Null:           </th> <td> -593.33</td> \n",
       "</tr>\n",
       "<tr>\n",
       "  <th>Covariance Type:</th>     <td>nonrobust</td>    <th>  LLR p-value:       </th> <td>6.329e-86</td>\n",
       "</tr>\n",
       "</table>\n",
       "<table class=\"simpletable\">\n",
       "<tr>\n",
       "          <td></td>             <th>coef</th>     <th>std err</th>      <th>z</th>      <th>P>|z|</th>  <th>[0.025</th>    <th>0.975]</th>  \n",
       "</tr>\n",
       "<tr>\n",
       "  <th>Fare</th>              <td>    0.0109</td> <td>    0.003</td> <td>    4.200</td> <td> 0.000</td> <td>    0.006</td> <td>    0.016</td>\n",
       "</tr>\n",
       "<tr>\n",
       "  <th>Family</th>            <td>    0.4258</td> <td>    0.098</td> <td>    4.363</td> <td> 0.000</td> <td>    0.235</td> <td>    0.617</td>\n",
       "</tr>\n",
       "<tr>\n",
       "  <th>Cabin_cat_missing</th> <td>   -0.9245</td> <td>    0.232</td> <td>   -3.977</td> <td> 0.000</td> <td>   -1.380</td> <td>   -0.469</td>\n",
       "</tr>\n",
       "<tr>\n",
       "  <th>titles_ Mr</th>        <td>   -2.5722</td> <td>    0.203</td> <td>  -12.698</td> <td> 0.000</td> <td>   -2.969</td> <td>   -2.175</td>\n",
       "</tr>\n",
       "<tr>\n",
       "  <th>titles_ Mrs</th>       <td>    0.8667</td> <td>    0.293</td> <td>    2.958</td> <td> 0.003</td> <td>    0.292</td> <td>    1.441</td>\n",
       "</tr>\n",
       "<tr>\n",
       "  <th>Family_cat_large</th>  <td>   -4.4873</td> <td>    0.639</td> <td>   -7.018</td> <td> 0.000</td> <td>   -5.740</td> <td>   -3.234</td>\n",
       "</tr>\n",
       "<tr>\n",
       "  <th>Family_cat_solo</th>   <td>    0.9603</td> <td>    0.219</td> <td>    4.387</td> <td> 0.000</td> <td>    0.531</td> <td>    1.389</td>\n",
       "</tr>\n",
       "</table>"
      ],
      "text/plain": [
       "<class 'statsmodels.iolib.summary.Summary'>\n",
       "\"\"\"\n",
       "                           Logit Regression Results                           \n",
       "==============================================================================\n",
       "Dep. Variable:               Survived   No. Observations:                  891\n",
       "Model:                          Logit   Df Residuals:                      884\n",
       "Method:                           MLE   Df Model:                            6\n",
       "Date:                Wed, 06 Dec 2023   Pseudo R-squ.:                  0.3474\n",
       "Time:                        10:52:56   Log-Likelihood:                -387.18\n",
       "converged:                       True   LL-Null:                       -593.33\n",
       "Covariance Type:            nonrobust   LLR p-value:                 6.329e-86\n",
       "=====================================================================================\n",
       "                        coef    std err          z      P>|z|      [0.025      0.975]\n",
       "-------------------------------------------------------------------------------------\n",
       "Fare                  0.0109      0.003      4.200      0.000       0.006       0.016\n",
       "Family                0.4258      0.098      4.363      0.000       0.235       0.617\n",
       "Cabin_cat_missing    -0.9245      0.232     -3.977      0.000      -1.380      -0.469\n",
       "titles_ Mr           -2.5722      0.203    -12.698      0.000      -2.969      -2.175\n",
       "titles_ Mrs           0.8667      0.293      2.958      0.003       0.292       1.441\n",
       "Family_cat_large     -4.4873      0.639     -7.018      0.000      -5.740      -3.234\n",
       "Family_cat_solo       0.9603      0.219      4.387      0.000       0.531       1.389\n",
       "=====================================================================================\n",
       "\"\"\""
      ]
     },
     "execution_count": 61,
     "metadata": {},
     "output_type": "execute_result"
    }
   ],
   "source": [
    "model.summary()"
   ]
  },
  {
   "cell_type": "code",
   "execution_count": 62,
   "id": "e3de371f",
   "metadata": {},
   "outputs": [
    {
     "data": {
      "text/plain": [
       "1.0109596214276102"
      ]
     },
     "execution_count": 62,
     "metadata": {},
     "output_type": "execute_result"
    }
   ],
   "source": [
    "np.exp(0.0109) # increase of Odds\n",
    "\n",
    "# By an increase of Fare by 1 dollar, the odds of surviving increase by 100x"
   ]
  },
  {
   "cell_type": "code",
   "execution_count": 63,
   "id": "08ddbbd3",
   "metadata": {},
   "outputs": [
    {
     "data": {
      "text/plain": [
       "0.011250980483955841"
      ]
     },
     "execution_count": 63,
     "metadata": {},
     "output_type": "execute_result"
    }
   ],
   "source": [
    "np.exp(-4.4873)\n",
    "# by an increase of 1 family member,the odds of their survival decrease of 1.1%\n",
    "# this means that the increase of family member is negatively correlated with the survival of passengers."
   ]
  },
  {
   "cell_type": "markdown",
   "id": "05825321",
   "metadata": {},
   "source": [
    "## Pseudo R2\n",
    "\n",
    "* **McFadden R2** -here,the r2 is not similar to the linear regression. there in we interpret the r2 as the ratio of variance in Y explained by X\n",
    "* because the variance in Y is not explained by X in logistic regression however,r2 exists and therefore it is called Pseudo R2.\n",
    "* therefore ,McFadden R2 is calculated by taking log of (likelihood of full model/likelihood of null model). this is 1-(LLF/LLN)\n",
    "*  **Note** - the value of McFadden R2 will be in the range of 0 and 1.\n",
    "* **here,0 represents that the model has no explanatory power where as 1 represents the model has a very high explanatory power.**\n",
    "* the range of McFadden is 0.2 to 0.4. generally if the model has the R2 falling in this range then we can say the model is good.\n",
    "\n"
   ]
  },
  {
   "cell_type": "code",
   "execution_count": 64,
   "id": "166570c9",
   "metadata": {},
   "outputs": [
    {
     "data": {
      "text/plain": [
       "-387.17657006194247"
      ]
     },
     "execution_count": 64,
     "metadata": {},
     "output_type": "execute_result"
    }
   ],
   "source": [
    "#McFadden\n",
    "model.llf"
   ]
  },
  {
   "cell_type": "code",
   "execution_count": 65,
   "id": "d6d1487c",
   "metadata": {},
   "outputs": [
    {
     "data": {
      "text/plain": [
       "-593.3275684771272"
      ]
     },
     "execution_count": 65,
     "metadata": {},
     "output_type": "execute_result"
    }
   ],
   "source": [
    "model.llnull\n"
   ]
  },
  {
   "cell_type": "code",
   "execution_count": 66,
   "id": "c794771b",
   "metadata": {},
   "outputs": [
    {
     "name": "stdout",
     "output_type": "stream",
     "text": [
      "McFadden R2: 0.3474488787775447\n"
     ]
    }
   ],
   "source": [
    "mcfadden=1-(model.llf/model.llnull)\n",
    "print('McFadden R2:',mcfadden)"
   ]
  },
  {
   "cell_type": "code",
   "execution_count": 67,
   "id": "29ffc79f",
   "metadata": {},
   "outputs": [],
   "source": [
    "# Cox and Snell\n",
    "\n",
    "L0=np.exp(model.llnull)\n",
    "L1=np.exp(model.llf)\n",
    "\n",
    "cox_snell=1-(L0/L1)** (2/newX.shape[0])"
   ]
  },
  {
   "cell_type": "code",
   "execution_count": 68,
   "id": "e058654a",
   "metadata": {},
   "outputs": [
    {
     "name": "stdout",
     "output_type": "stream",
     "text": [
      "McFadden: 0.3474488787775447\n",
      "Cox and Snell: 0.37044416823032167\n",
      "Nagelkerke: 0.5033176723723485\n"
     ]
    }
   ],
   "source": [
    "#Nagelkerke\n",
    "nagelkerke=cox_snell/(1-L0**(2/newX.shape[0]))\n",
    "print('McFadden:',mcfadden)\n",
    "print('Cox and Snell:',cox_snell)\n",
    "print('Nagelkerke:',nagelkerke)"
   ]
  },
  {
   "cell_type": "markdown",
   "id": "652444c2",
   "metadata": {},
   "source": [
    "* **NOTE:which one to go with**\n",
    "* McFadden is generally a conservative estimate\n",
    "* Cox and Snell is used to compare the nested models and thus it  carries a lot of references there. Because the value of R2 is adjusted on the basis of n.\n",
    "* Nagelkerke is based on Cox and Snell but it is more better estimate because it can easily achieve values closer to 1 (not really) but it is highest R2 amongst all.\n",
    "* therefore,Nagelkerke is the go to R2 value for the model."
   ]
  },
  {
   "cell_type": "markdown",
   "id": "9de64847",
   "metadata": {},
   "source": [
    "### AIC"
   ]
  },
  {
   "cell_type": "code",
   "execution_count": 69,
   "id": "08278bb8",
   "metadata": {},
   "outputs": [
    {
     "data": {
      "text/plain": [
       "788.3531401238849"
      ]
     },
     "execution_count": 69,
     "metadata": {},
     "output_type": "execute_result"
    }
   ],
   "source": [
    "model.aic"
   ]
  },
  {
   "cell_type": "code",
   "execution_count": 70,
   "id": "77bcb089",
   "metadata": {},
   "outputs": [
    {
     "data": {
      "text/plain": [
       "4.19959190435997"
      ]
     },
     "execution_count": 70,
     "metadata": {},
     "output_type": "execute_result"
    }
   ],
   "source": [
    "#wald test\n",
    "# model.bse represents standard error\n",
    "teststats=model.params[0]/model.bse[0]\n",
    "teststats\n",
    "\n",
    "#pvalue\n",
    "#since the LogReg model follow Chi Square Distt...\n"
   ]
  },
  {
   "cell_type": "code",
   "execution_count": 71,
   "id": "7a0f2567",
   "metadata": {},
   "outputs": [],
   "source": [
    "import scipy.stats as stats"
   ]
  },
  {
   "cell_type": "code",
   "execution_count": 72,
   "id": "af9ec528",
   "metadata": {},
   "outputs": [
    {
     "data": {
      "text/plain": [
       "0.04043370868682502"
      ]
     },
     "execution_count": 72,
     "metadata": {},
     "output_type": "execute_result"
    }
   ],
   "source": [
    "stats.chi2.sf(teststats,1)\n",
    "#Wald test has df of 1"
   ]
  },
  {
   "cell_type": "code",
   "execution_count": null,
   "id": "d9b11a6c",
   "metadata": {},
   "outputs": [],
   "source": []
  }
 ],
 "metadata": {
  "kernelspec": {
   "display_name": "Python 3 (ipykernel)",
   "language": "python",
   "name": "python3"
  },
  "language_info": {
   "codemirror_mode": {
    "name": "ipython",
    "version": 3
   },
   "file_extension": ".py",
   "mimetype": "text/x-python",
   "name": "python",
   "nbconvert_exporter": "python",
   "pygments_lexer": "ipython3",
   "version": "3.11.3"
  }
 },
 "nbformat": 4,
 "nbformat_minor": 5
}
